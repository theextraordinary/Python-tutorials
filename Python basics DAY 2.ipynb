{
 "cells": [
  {
   "cell_type": "markdown",
   "metadata": {},
   "source": [
    "DICTIONARIES "
   ]
  },
  {
   "cell_type": "code",
   "execution_count": 1,
   "metadata": {},
   "outputs": [
    {
     "data": {
      "text/plain": [
       "{'color': 'gray', 'size': 'fat', 'dsposition': 'loud'}"
      ]
     },
     "execution_count": 1,
     "metadata": {},
     "output_type": "execute_result"
    }
   ],
   "source": [
    "cat = {'color':'gray','size':'fat','dsposition':'loud'};\n",
    "cat"
   ]
  },
  {
   "cell_type": "code",
   "execution_count": null,
   "metadata": {},
   "outputs": [],
   "source": [
    "type(cat)"
   ]
  },
  {
   "cell_type": "code",
   "execution_count": 4,
   "metadata": {},
   "outputs": [
    {
     "data": {
      "text/plain": [
       "'gray'"
      ]
     },
     "execution_count": 4,
     "metadata": {},
     "output_type": "execute_result"
    }
   ],
   "source": [
    "cat['color']"
   ]
  },
  {
   "cell_type": "code",
   "execution_count": 6,
   "metadata": {},
   "outputs": [
    {
     "data": {
      "text/plain": [
       "{'color': 'white', 'size': 'fat', 'dsposition': 'loud'}"
      ]
     },
     "execution_count": 6,
     "metadata": {},
     "output_type": "execute_result"
    }
   ],
   "source": [
    "cat['color'] = 'white'\n",
    "cat"
   ]
  },
  {
   "cell_type": "code",
   "execution_count": 7,
   "metadata": {},
   "outputs": [
    {
     "data": {
      "text/plain": [
       "{'color': 'gray', 'size': 'fat', 'dsposition': 'loud'}"
      ]
     },
     "execution_count": 7,
     "metadata": {},
     "output_type": "execute_result"
    }
   ],
   "source": [
    "spam = cat\n",
    "spam['color'] = 'gray'\n",
    "cat"
   ]
  },
  {
   "cell_type": "markdown",
   "metadata": {},
   "source": [
    "List vs Dictioinaries\n",
    "1. In list order matters while in dict it doesnt because there is no first item or last item in dict"
   ]
  },
  {
   "cell_type": "code",
   "execution_count": 8,
   "metadata": {},
   "outputs": [
    {
     "data": {
      "text/plain": [
       "False"
      ]
     },
     "execution_count": 8,
     "metadata": {},
     "output_type": "execute_result"
    }
   ],
   "source": [
    "spam=[3,3,6]\n",
    "bacon = [6, 3, 3]\n",
    "spam == bacon"
   ]
  },
  {
   "cell_type": "code",
   "execution_count": 9,
   "metadata": {},
   "outputs": [
    {
     "data": {
      "text/plain": [
       "True"
      ]
     },
     "execution_count": 9,
     "metadata": {},
     "output_type": "execute_result"
    }
   ],
   "source": [
    "spam = {0 : 3, 1 : 3, 2 : 6}\n",
    "bacon = {1 : 3 , 2 : 6, 0 : 3}\n",
    "spam == bacon"
   ]
  },
  {
   "cell_type": "markdown",
   "metadata": {},
   "source": [
    "2. Unlike list , dict cant be sliced"
   ]
  },
  {
   "cell_type": "code",
   "execution_count": 2,
   "metadata": {},
   "outputs": [
    {
     "name": "stdout",
     "output_type": "stream",
     "text": [
      "Enter a name:(blank to quit)\n",
      "shivang\n",
      "Sorry but i dont know your birthday data.Kindly enter to update\n",
      "Enter your name\n",
      "shivang\n",
      "Enter your birthdate\n",
      "Aug 3\n",
      "Enter a name:(blank to quit)\n",
      "shivang\n",
      "Aug 3is the birthdate of shivang\n",
      "Enter a name:(blank to quit)\n",
      "\n"
     ]
    }
   ],
   "source": [
    "birthdays = {'Alice':'Apr 1','Bob':'Dec 12','Carol':'Mar 4'}\n",
    "while True :\n",
    "    print('Enter a name:(blank to quit)')\n",
    "    name = input()\n",
    "    if name=='':\n",
    "        break\n",
    "    if name in birthdays:\n",
    "        print(birthdays[name] + 'is the birthdate of '+ name)\n",
    "    else:\n",
    "        print('Sorry but i dont know your birthday data.Kindly enter to update')\n",
    "        print('Enter your name')\n",
    "        name= input()\n",
    "        print('Enter your birthdate')\n",
    "        date = input()\n",
    "        birthdays[name]=date"
   ]
  },
  {
   "cell_type": "code",
   "execution_count": 4,
   "metadata": {},
   "outputs": [
    {
     "data": {
      "text/plain": [
       "dict_keys(['Alice', 'Bob', 'Carol', 'shivang'])"
      ]
     },
     "execution_count": 4,
     "metadata": {},
     "output_type": "execute_result"
    }
   ],
   "source": [
    "birthdays.keys()"
   ]
  },
  {
   "cell_type": "code",
   "execution_count": 5,
   "metadata": {},
   "outputs": [
    {
     "data": {
      "text/plain": [
       "dict_keys"
      ]
     },
     "execution_count": 5,
     "metadata": {},
     "output_type": "execute_result"
    }
   ],
   "source": [
    "type(birthdays.keys())"
   ]
  },
  {
   "cell_type": "code",
   "execution_count": 6,
   "metadata": {},
   "outputs": [
    {
     "data": {
      "text/plain": [
       "dict_values(['Apr 1', 'Dec 12', 'Mar 4', 'Aug 3'])"
      ]
     },
     "execution_count": 6,
     "metadata": {},
     "output_type": "execute_result"
    }
   ],
   "source": [
    "birthdays.values()"
   ]
  },
  {
   "cell_type": "code",
   "execution_count": 7,
   "metadata": {},
   "outputs": [
    {
     "data": {
      "text/plain": [
       "dict_items([('Alice', 'Apr 1'), ('Bob', 'Dec 12'), ('Carol', 'Mar 4'), ('shivang', 'Aug 3')])"
      ]
     },
     "execution_count": 7,
     "metadata": {},
     "output_type": "execute_result"
    }
   ],
   "source": [
    "birthdays.items()"
   ]
  },
  {
   "cell_type": "code",
   "execution_count": 9,
   "metadata": {},
   "outputs": [
    {
     "name": "stdout",
     "output_type": "stream",
     "text": [
      "dict_items([('Alice', 'Apr 1'), ('Bob', 'Dec 12'), ('Carol', 'Mar 4'), ('shivang', 'Aug 3')])\n"
     ]
    }
   ],
   "source": [
    "print(birthdays.items())"
   ]
  },
  {
   "cell_type": "markdown",
   "metadata": {},
   "source": [
    "The get() method: it helps us to get the specific key value and if it is not present then it returns the default value which we proivde to the function as second argument"
   ]
  },
  {
   "cell_type": "code",
   "execution_count": 10,
   "metadata": {},
   "outputs": [
    {
     "data": {
      "text/plain": [
       "'sorry not in the list'"
      ]
     },
     "execution_count": 10,
     "metadata": {},
     "output_type": "execute_result"
    }
   ],
   "source": [
    "birthdays.get('jonas','sorry not in the list')"
   ]
  },
  {
   "cell_type": "code",
   "execution_count": 11,
   "metadata": {},
   "outputs": [
    {
     "data": {
      "text/plain": [
       "'Aug 3'"
      ]
     },
     "execution_count": 11,
     "metadata": {},
     "output_type": "execute_result"
    }
   ],
   "source": [
    "birthdays.get('shivang','sorry not int the list')"
   ]
  },
  {
   "cell_type": "markdown",
   "metadata": {},
   "source": [
    "The setdefault() method: it helps us to get specific key value and if it is not present then it sets the value given to the functioin as second argument and add both to the dict"
   ]
  },
  {
   "cell_type": "code",
   "execution_count": 13,
   "metadata": {},
   "outputs": [
    {
     "data": {
      "text/plain": [
       "{'Alice': 'Apr 1',\n",
       " 'Bob': 'Dec 12',\n",
       " 'Carol': 'Mar 4',\n",
       " 'shivang': 'Aug 3',\n",
       " 'jonas': 'Apr 5'}"
      ]
     },
     "execution_count": 13,
     "metadata": {},
     "output_type": "execute_result"
    }
   ],
   "source": [
    "birthdays.setdefault('jonas','Apr 5')\n",
    "birthdays"
   ]
  },
  {
   "cell_type": "code",
   "execution_count": 14,
   "metadata": {},
   "outputs": [
    {
     "data": {
      "text/plain": [
       "'Apr 5'"
      ]
     },
     "execution_count": 14,
     "metadata": {},
     "output_type": "execute_result"
    }
   ],
   "source": [
    "birthdays.setdefault('jonas','Sep 29')"
   ]
  },
  {
   "cell_type": "code",
   "execution_count": 15,
   "metadata": {},
   "outputs": [
    {
     "data": {
      "text/plain": [
       "{'I': 1,\n",
       " 't': 6,\n",
       " ' ': 13,\n",
       " 'w': 2,\n",
       " 'a': 5,\n",
       " 's': 3,\n",
       " 'b': 1,\n",
       " 'r': 4,\n",
       " 'i': 5,\n",
       " 'g': 2,\n",
       " 'h': 3,\n",
       " 'c': 3,\n",
       " 'o': 3,\n",
       " 'l': 3,\n",
       " 'd': 3,\n",
       " 'y': 1,\n",
       " 'f': 1,\n",
       " 'A': 1,\n",
       " 'p': 1,\n",
       " 'n': 3,\n",
       " 'e': 3,\n",
       " 'k': 2}"
      ]
     },
     "execution_count": 15,
     "metadata": {},
     "output_type": "execute_result"
    }
   ],
   "source": [
    "message = 'It was a bright cold day of April and the clock was striking thirteen'\n",
    "count={}\n",
    "for char in message:\n",
    "    count.setdefault(char,0)\n",
    "    count[char]+=1\n",
    "count"
   ]
  },
  {
   "cell_type": "code",
   "execution_count": 16,
   "metadata": {},
   "outputs": [
    {
     "name": "stdout",
     "output_type": "stream",
     "text": [
      "{' ': 13,\n",
      " 'A': 1,\n",
      " 'I': 1,\n",
      " 'a': 5,\n",
      " 'b': 1,\n",
      " 'c': 3,\n",
      " 'd': 3,\n",
      " 'e': 3,\n",
      " 'f': 1,\n",
      " 'g': 2,\n",
      " 'h': 3,\n",
      " 'i': 5,\n",
      " 'k': 2,\n",
      " 'l': 3,\n",
      " 'n': 3,\n",
      " 'o': 3,\n",
      " 'p': 1,\n",
      " 'r': 4,\n",
      " 's': 3,\n",
      " 't': 6,\n",
      " 'w': 2,\n",
      " 'y': 1}\n"
     ]
    }
   ],
   "source": [
    "import pprint as pp\n",
    "message = 'It was a bright cold day of April and the clock was striking thirteen'\n",
    "count={}\n",
    "for char in message:\n",
    "    count.setdefault(char,0)\n",
    "    count[char]+=1\n",
    "pp.pprint(count)"
   ]
  },
  {
   "cell_type": "code",
   "execution_count": 17,
   "metadata": {},
   "outputs": [
    {
     "name": "stdout",
     "output_type": "stream",
     "text": [
      "{' ': 13,\n",
      " 'A': 1,\n",
      " 'I': 1,\n",
      " 'a': 5,\n",
      " 'b': 1,\n",
      " 'c': 3,\n",
      " 'd': 3,\n",
      " 'e': 3,\n",
      " 'f': 1,\n",
      " 'g': 2,\n",
      " 'h': 3,\n",
      " 'i': 5,\n",
      " 'k': 2,\n",
      " 'l': 3,\n",
      " 'n': 3,\n",
      " 'o': 3,\n",
      " 'p': 1,\n",
      " 'r': 4,\n",
      " 's': 3,\n",
      " 't': 6,\n",
      " 'w': 2,\n",
      " 'y': 1}\n"
     ]
    }
   ],
   "source": [
    "import pprint as pp\n",
    "message = 'It was a bright cold day of April and the clock was striking thirteen'\n",
    "count={}\n",
    "for char in message:\n",
    "    count.setdefault(char,0)\n",
    "    count[char]+=1\n",
    "print(pp.pformat(count))"
   ]
  },
  {
   "cell_type": "code",
   "execution_count": null,
   "metadata": {},
   "outputs": [],
   "source": []
  }
 ],
 "metadata": {
  "kernelspec": {
   "display_name": "Python 3",
   "language": "python",
   "name": "python3"
  },
  "language_info": {
   "codemirror_mode": {
    "name": "ipython",
    "version": 3
   },
   "file_extension": ".py",
   "mimetype": "text/x-python",
   "name": "python",
   "nbconvert_exporter": "python",
   "pygments_lexer": "ipython3",
   "version": "3.8.5"
  }
 },
 "nbformat": 4,
 "nbformat_minor": 4
}
