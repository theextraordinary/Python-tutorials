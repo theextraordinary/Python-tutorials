{
 "cells": [
  {
   "cell_type": "code",
   "execution_count": 14,
   "metadata": {},
   "outputs": [],
   "source": [
    "ans=''\n",
    "def traverseMaze(mazeFile):\n",
    "    visited=[]\n",
    "    ans=''\n",
    "    grid=[]\n",
    "    file=open(mazeFile,'r')\n",
    "    val=file.read()\n",
    "   \n",
    "    val=val.splitlines()\n",
    "    for line in val:\n",
    "        grid.append(line.split())\n",
    "    for i in range(len(grid)):\n",
    "        print(grid)\n",
    "    for i in range(len(grid)):\n",
    "        visited.append([False]*len(grid[0]))\n",
    "    for i in range(len(grid)):\n",
    "        for j in range(len(grid[0])):\n",
    "            if grid[i][j]=='S':\n",
    "                traverse(i,j,visited,grid,'')\n",
    "                return ans.split()"
   ]
  },
  {
   "cell_type": "code",
   "execution_count": 15,
   "metadata": {},
   "outputs": [],
   "source": [
    "def traverse(i,j,visited,grid,path):\n",
    "    print(i,j)\n",
    "    if grid[i][j]=='E':\n",
    "        ans=path\n",
    "        return True\n",
    "  \n",
    "    if isval(i,j+1,visited,grid):\n",
    "        visited[i][j+1]=True\n",
    "        temp=traverse(i,j+1,visited,grid,path+'R')\n",
    "        if temp:\n",
    "            return True\n",
    "        visited[i][j+1]=False\n",
    "\n",
    "    if isval(i+1,j,visited,grid):\n",
    "        visited[i+1][j]=True\n",
    "        if traverse(i+1,j,visited,grid,path+'D'):\n",
    "            return True\n",
    "        visited[i+1][j]=False\n",
    "\n",
    "    if isval(i,j-1,visited,grid):\n",
    "        visited[i][j-1]=True\n",
    "        if traverse(i,j-1,visited,grid,path+'L'):\n",
    "            return True\n",
    "        visited[i][j-1]=False\n",
    "  \n",
    "    if isval(i-1,j,visited,grid):\n",
    "        visited[i-1][j]=True\n",
    "        temp=traverse(i-1,j,visited,grid,path+'U')\n",
    "        if temp:\n",
    "            return True\n",
    "        visited[i-1][j]=False\n",
    "    return False\n",
    "\n",
    "def isval(i,j,visited,grid):\n",
    "    print('#'+str(i)+' '+str(j))\n",
    "    if i>=len(grid) or i<0 or j>=len(grid[0]) or j<0 or visited[i][j] or grid[i][j]=='X':\n",
    "        return False\n",
    "    return True"
   ]
  },
  {
   "cell_type": "code",
   "execution_count": 16,
   "metadata": {},
   "outputs": [
    {
     "ename": "FileNotFoundError",
     "evalue": "[Errno 2] No such file or directory: 'mf.txt'",
     "output_type": "error",
     "traceback": [
      "\u001b[1;31m---------------------------------------------------------------------------\u001b[0m",
      "\u001b[1;31mFileNotFoundError\u001b[0m                         Traceback (most recent call last)",
      "\u001b[1;32m<ipython-input-16-ce047998be7e>\u001b[0m in \u001b[0;36m<module>\u001b[1;34m\u001b[0m\n\u001b[1;32m----> 1\u001b[1;33m \u001b[0mtraverseMaze\u001b[0m\u001b[1;33m(\u001b[0m\u001b[1;34m'mf.txt'\u001b[0m\u001b[1;33m)\u001b[0m\u001b[1;33m\u001b[0m\u001b[1;33m\u001b[0m\u001b[0m\n\u001b[0m",
      "\u001b[1;32m<ipython-input-14-0b618367458e>\u001b[0m in \u001b[0;36mtraverseMaze\u001b[1;34m(mazeFile)\u001b[0m\n\u001b[0;32m      4\u001b[0m     \u001b[0mans\u001b[0m\u001b[1;33m=\u001b[0m\u001b[1;34m''\u001b[0m\u001b[1;33m\u001b[0m\u001b[1;33m\u001b[0m\u001b[0m\n\u001b[0;32m      5\u001b[0m     \u001b[0mgrid\u001b[0m\u001b[1;33m=\u001b[0m\u001b[1;33m[\u001b[0m\u001b[1;33m]\u001b[0m\u001b[1;33m\u001b[0m\u001b[1;33m\u001b[0m\u001b[0m\n\u001b[1;32m----> 6\u001b[1;33m     \u001b[0mfile\u001b[0m\u001b[1;33m=\u001b[0m\u001b[0mopen\u001b[0m\u001b[1;33m(\u001b[0m\u001b[0mmazeFile\u001b[0m\u001b[1;33m,\u001b[0m\u001b[1;34m'r'\u001b[0m\u001b[1;33m)\u001b[0m\u001b[1;33m\u001b[0m\u001b[1;33m\u001b[0m\u001b[0m\n\u001b[0m\u001b[0;32m      7\u001b[0m     \u001b[0mval\u001b[0m\u001b[1;33m=\u001b[0m\u001b[0mfile\u001b[0m\u001b[1;33m.\u001b[0m\u001b[0mread\u001b[0m\u001b[1;33m(\u001b[0m\u001b[1;33m)\u001b[0m\u001b[1;33m\u001b[0m\u001b[1;33m\u001b[0m\u001b[0m\n\u001b[0;32m      8\u001b[0m \u001b[1;33m\u001b[0m\u001b[0m\n",
      "\u001b[1;31mFileNotFoundError\u001b[0m: [Errno 2] No such file or directory: 'mf.txt'"
     ]
    }
   ],
   "source": [
    "traverseMaze('mf.txt')"
   ]
  },
  {
   "cell_type": "code",
   "execution_count": null,
   "metadata": {},
   "outputs": [],
   "source": []
  },
  {
   "cell_type": "code",
   "execution_count": null,
   "metadata": {},
   "outputs": [],
   "source": []
  },
  {
   "cell_type": "code",
   "execution_count": null,
   "metadata": {},
   "outputs": [],
   "source": []
  }
 ],
 "metadata": {
  "kernelspec": {
   "display_name": "Python 3",
   "language": "python",
   "name": "python3"
  },
  "language_info": {
   "codemirror_mode": {
    "name": "ipython",
    "version": 3
   },
   "file_extension": ".py",
   "mimetype": "text/x-python",
   "name": "python",
   "nbconvert_exporter": "python",
   "pygments_lexer": "ipython3",
   "version": "3.8.5"
  }
 },
 "nbformat": 4,
 "nbformat_minor": 4
}
