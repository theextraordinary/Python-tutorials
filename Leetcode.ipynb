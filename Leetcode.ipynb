{
 "cells": [
  {
   "cell_type": "code",
   "execution_count": 12,
   "metadata": {},
   "outputs": [
    {
     "data": {
      "text/plain": [
       "['',\n",
       " '',\n",
       " '',\n",
       " '',\n",
       " ['', '', '', '', '', ''],\n",
       " ['', '', '', '', '', ''],\n",
       " ['', '', '', '', '', ''],\n",
       " ['', '', '', '', '', ''],\n",
       " ['', '', '', '', '', ''],\n",
       " ['', '', '', '', '', ''],\n",
       " ['', '', '', '', '', ''],\n",
       " ['', '', '', '', '', ''],\n",
       " ['', '', '', '', '', ''],\n",
       " ['', '', '', '', '', ''],\n",
       " ['', '', '', '', '', ''],\n",
       " ['', '', '', '', '', ''],\n",
       " ['', '', '', '', '', ''],\n",
       " ['', '', '', '', '', ''],\n",
       " ['', '', '', '', '', ''],\n",
       " ['', '', '', '', '', ''],\n",
       " ['', '', '', '', '', ''],\n",
       " ['', '', '', '', '', ''],\n",
       " ['', '', '', '', '', ''],\n",
       " ['', '', '', '', '', ''],\n",
       " ['', '', '', '', '', ''],\n",
       " ['', '', '', '', '', ''],\n",
       " ['', '', '', '', '', ''],\n",
       " ['', '', '', '', '', ''],\n",
       " ['', '', '', '', '', ''],\n",
       " ['', '', '', '', '', ''],\n",
       " ['', '', '', '', '', ''],\n",
       " ['', '', '', '', '', ''],\n",
       " ['', '', '', '', '', ''],\n",
       " ['', '', '', '', '', ''],\n",
       " ['', '', '', '', '', ''],\n",
       " ['', '', '', '', '', ''],\n",
       " ['', '', '', '', '', ''],\n",
       " ['', '', '', '', '', ''],\n",
       " ['', '', '', '', '', ''],\n",
       " ['', '', '', '', '', ''],\n",
       " ['', '', '', '', '', ''],\n",
       " ['', '', '', '', '', ''],\n",
       " ['', '', '', '', '', ''],\n",
       " ['', '', '', '', '', ''],\n",
       " ['', '', '', '', ''],\n",
       " ['', '', '', '', ''],\n",
       " ['', '', '', '', ''],\n",
       " ['', '', '', '', ''],\n",
       " [0, 0, 0, 0, 0],\n",
       " [0, 0, 0, 0, 0],\n",
       " [0, 0, 0, 0, 0],\n",
       " [0, 0, 0, 0, 0],\n",
       " [0, 0, 0, 0, 0],\n",
       " [0, 0, 0, 0, 0],\n",
       " [0, 0, 0, 0, 0],\n",
       " [0, 0, 0, 0, 0],\n",
       " [0, 0, 0, 0, 0],\n",
       " [0, 0, 0, 0, 0],\n",
       " [0, 0, 0, 0, 0],\n",
       " [0, 0, 0, 0, 0]]"
      ]
     },
     "execution_count": 12,
     "metadata": {},
     "output_type": "execute_result"
    }
   ],
   "source": [
    "a=3\n",
    "b=4\n",
    "x=a+1;\n",
    "y=b+1;\n",
    "z=c+1;\n",
    "for i in range(x):\n",
    "    dp.append([0]*y)\n",
    "dp"
   ]
  },
  {
   "cell_type": "code",
   "execution_count": null,
   "metadata": {},
   "outputs": [],
   "source": [
    "for(int i=0;i<x;i++)\n",
    "            for(int j=0;j<y;j++)\n",
    "                Arrays.fill(dp[i][j],\"\");\n",
    "        for(int i=0;i<x;i++){\n",
    "            for (int j=0;j<y;j++){\n",
    "                for(int k=0;k<z;k++){\n",
    "                    \n",
    "                    if(i>0){\n",
    "                        String t=dp[i-1][j][k];\n",
    "                        int n=t.length();\n",
    "                        \n",
    "                        if(n>=2&&t.charAt(n-2)!='a'){\n",
    "                            t=t+\"a\";\n",
    "                            if(t.length()>dp[i][j][k].length()){\n",
    "                                dp[i][j][k]=t;\n",
    "                            }\n",
    "                        }else{\n",
    "                             t=t+\"a\";\n",
    "                            dp[i][j][k]=t;\n",
    "                        }\n",
    "                            \n",
    "                    }\n",
    "                    if(i>1){\n",
    "                        String t=dp[i-2][j][k];\n",
    "                        int n=t.length();\n",
    "                        if(n>=1&&t.charAt(n-1)!='a'){\n",
    "                            t=t+\"aa\";\n",
    "                            if(t.length()>dp[i][j][k].length()){\n",
    "                                dp[x][y][z]=t;\n",
    "                            }\n",
    "                        }else{\n",
    "                             t=t+\"aa\";\n",
    "                            dp[i][j][k]=t;\n",
    "                        }\n",
    "                            \n",
    "                    }\n",
    "                    if(j>0){\n",
    "                        String t=dp[i][j-1][k];\n",
    "                        int n=t.length();\n",
    "                        if(n>=2&&t.charAt(n-2)!='b'){\n",
    "                            t=t+\"b\";\n",
    "                            if(t.length()>dp[i][j][k].length()){\n",
    "                                dp[i][j][k]=t;\n",
    "                            }\n",
    "                        }else{\n",
    "                             t=t+\"b\";\n",
    "                            dp[i][j][k]=t;\n",
    "                        }\n",
    "                            \n",
    "                    }\n",
    "                    if(j>1){\n",
    "                        String t=dp[i][j-2][k];\n",
    "                        int n=t.length();\n",
    "                        if(n>=1&&t.charAt(n-1)!='b'){\n",
    "                            t=t+\"bb\";\n",
    "                            if(t.length()>dp[i][j][k].length()){\n",
    "                                dp[i][j][k]=t;\n",
    "                            }\n",
    "                        }else{\n",
    "                            \n",
    "                          dp[i][j][k]=t+\"bb\";\n",
    "                        }\n",
    "                    }\n",
    "                    if(k>0){\n",
    "                        String t=dp[i][j][k-1];\n",
    "                        int n=t.length();\n",
    "                        if(n>=2&&t.charAt(n-2)!='c'){\n",
    "                            t=t+\"c\";\n",
    "                            if(t.length()>dp[i][j][k].length()){\n",
    "                                dp[i][j][k]=t;\n",
    "                            }\n",
    "                        }else{\n",
    "                            \n",
    "                            dp[i][j][k]=t+\"c\";\n",
    "                        }\n",
    "                    }\n",
    "                    if(k>1){\n",
    "                        String t=dp[i][j][k-2];\n",
    "                        int n=t.length();\n",
    "                        if(n>=1&&t.charAt(n-1)!='c'){\n",
    "                            t=t+\"cc\";\n",
    "                            if(t.length()>dp[i][j][k].length()){\n",
    "                                dp[i][j][k]=t;\n",
    "                            }\n",
    "                        }else{\n",
    "                            \n",
    "                            dp[i][j][k]=t+\"cc\";\n",
    "                        }\n",
    "                    }\n",
    "                }\n",
    "            }\n",
    "        }\n",
    "        return dp[a][b][c];"
   ]
  },
  {
   "cell_type": "code",
   "execution_count": null,
   "metadata": {},
   "outputs": [],
   "source": []
  },
  {
   "cell_type": "code",
   "execution_count": 18,
   "metadata": {},
   "outputs": [
    {
     "name": "stdout",
     "output_type": "stream",
     "text": [
      "[0, 1, 0, 5, 1, 1, 1]\n",
      "1 1\n",
      "2 1\n",
      "3 1\n",
      "4 1\n",
      "5 1\n",
      "6 2\n"
     ]
    },
    {
     "data": {
      "text/plain": [
       "3.0"
      ]
     },
     "execution_count": 18,
     "metadata": {},
     "output_type": "execute_result"
    }
   ],
   "source": [
    "numberOfArithmeticSlices([1,1,2,2,7,8,9,10])"
   ]
  },
  {
   "cell_type": "code",
   "execution_count": null,
   "metadata": {},
   "outputs": [],
   "source": []
  },
  {
   "cell_type": "code",
   "execution_count": 12,
   "metadata": {},
   "outputs": [
    {
     "data": {
      "text/plain": [
       "3.0"
      ]
     },
     "execution_count": 12,
     "metadata": {},
     "output_type": "execute_result"
    }
   ],
   "source": [
    "n=4\n",
    "(n-2)*(n-1)/2"
   ]
  },
  {
   "cell_type": "code",
   "execution_count": null,
   "metadata": {},
   "outputs": [],
   "source": []
  }
 ],
 "metadata": {
  "kernelspec": {
   "display_name": "Python 3",
   "language": "python",
   "name": "python3"
  },
  "language_info": {
   "codemirror_mode": {
    "name": "ipython",
    "version": 3
   },
   "file_extension": ".py",
   "mimetype": "text/x-python",
   "name": "python",
   "nbconvert_exporter": "python",
   "pygments_lexer": "ipython3",
   "version": "3.8.5"
  }
 },
 "nbformat": 4,
 "nbformat_minor": 4
}
