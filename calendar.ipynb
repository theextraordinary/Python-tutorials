{
 "cells": [
  {
   "cell_type": "code",
   "execution_count": 1,
   "metadata": {},
   "outputs": [],
   "source": [
    "import numpy as np"
   ]
  },
  {
   "cell_type": "code",
   "execution_count": 2,
   "metadata": {},
   "outputs": [],
   "source": [
    "def is_leap_year(year):\n",
    "    \n",
    "    if year%4!=0:\n",
    "        return False\n",
    "    elif year%100!=0:\n",
    "        return True\n",
    "    elif year%400!=0:\n",
    "        return False\n",
    "    else:\n",
    "        return True"
   ]
  },
  {
   "cell_type": "code",
   "execution_count": 5,
   "metadata": {},
   "outputs": [],
   "source": [
    "def getcalendar(year):\n",
    "    global next_day\n",
    "    global months,days,month_days\n",
    "    months=['January','Febuary','March','April','May','June','July','August','September','October','November','December']\n",
    "    days=['Mon','Tue','Wed','Thur','Fri','Sat','Sun']\n",
    "    month_days=[31,28,31,30,31,30,31,31,30,31,30,31]\n",
    "    if is_leap_year(year):\n",
    "        month_days[1]=29\n",
    "        \n",
    "    def generate_calendar():\n",
    "        \n",
    "        file=open('calendar.txt','w')\n",
    "        file.write('\\t\\t\\tYear '+str(year))\n",
    "        file.close()\n",
    "        file=open('calendar.txt','a')\n",
    "        file.write('\\n\\n')\n",
    "        cal=get_cal(year)\n",
    "    \n",
    "    \n",
    "        for month in range(12):\n",
    "            file.write('\\t'+months[month]+' '+str(year)+'\\n')\n",
    "            for day in range(7):\n",
    "                file.write(days[day].center(15)+'|')\n",
    "                for i in range(5):\n",
    "                    file.write(str(cal[month][day][i]).center(10)+'|')\n",
    "                file.write('\\n'+'-'*71+'\\n')\n",
    "            file.write('\\n\\n\\n')\n",
    "        file.close()\n",
    "        file=open('calendar.txt')\n",
    "        file.read()\n",
    "            \n",
    "    def get_cal(year):\n",
    "        calendar=[]\n",
    "        for i in range(12):\n",
    "            month_data=get_month(i,year)\n",
    "            calendar.append(month_data)\n",
    "        return calendar\n",
    "    \n",
    "    def get_month(m,year):\n",
    "        month=[]\n",
    "    \n",
    "        for i in range(7):\n",
    "            month.append([0]*5)\n",
    "        if m==0:\n",
    "            fd=first_day(year)\n",
    "        else:\n",
    "            fd=next_day\n",
    "        date=1\n",
    "        for i in range(fd,7):\n",
    "            month[i][0]=day\n",
    "            date=date+1\n",
    "        for j in range(1,5):\n",
    "            for i in range(7):\n",
    "                month[i][j]=day\n",
    "                day=day+1\n",
    "        left=0\n",
    "        while day<=month_days[m]:\n",
    "            month[left][0]=day\n",
    "            day=day+1\n",
    "            left=left+1\n",
    "        next_day=left\n",
    "        return month\n",
    "    \n",
    "    def first_day(year):\n",
    "        magic=0\n",
    "        if is_leap_year(year):\n",
    "            magic=6\n",
    "        fds=int(year/100)\n",
    "        mods=[6,4,2,0]\n",
    "        val=mods[fds%4]\n",
    "        lds=year%100\n",
    "        x=int(lds/4)\n",
    "        ans=1+magic+val+x+lds\n",
    "        return ans%7-1"
   ]
  },
  {
   "cell_type": "code",
   "execution_count": 6,
   "metadata": {},
   "outputs": [],
   "source": [
    "getcalendar(2021)"
   ]
  },
  {
   "cell_type": "code",
   "execution_count": 35,
   "metadata": {},
   "outputs": [],
   "source": []
  },
  {
   "cell_type": "code",
   "execution_count": 55,
   "metadata": {},
   "outputs": [],
   "source": [
    "\n",
    "    "
   ]
  },
  {
   "cell_type": "code",
   "execution_count": 56,
   "metadata": {},
   "outputs": [
    {
     "data": {
      "text/plain": [
       "2"
      ]
     },
     "execution_count": 56,
     "metadata": {},
     "output_type": "execute_result"
    }
   ],
   "source": [
    "first_day(2020)"
   ]
  },
  {
   "cell_type": "code",
   "execution_count": 21,
   "metadata": {},
   "outputs": [
    {
     "data": {
      "text/plain": [
       "[[[0, 0], [0, 0]],\n",
       " [[0, 0], [0, 0]],\n",
       " [[0, 0], [0, 0]],\n",
       " [[0, 0], [0, 0]],\n",
       " [[0, 0], [0, 0]],\n",
       " [[0, 0], [0, 0]],\n",
       " [[0, 0], [0, 0]],\n",
       " [[0, 0], [0, 0]],\n",
       " [[0, 0], [0, 0]],\n",
       " [[0, 0], [0, 0]],\n",
       " [[0, 0], [0, 0]],\n",
       " [[0, 0], [0, 0]]]"
      ]
     },
     "execution_count": 21,
     "metadata": {},
     "output_type": "execute_result"
    }
   ],
   "source": [
    "cal"
   ]
  },
  {
   "cell_type": "code",
   "execution_count": 17,
   "metadata": {},
   "outputs": [],
   "source": [
    " def numberOfArithmeticSlices(A):\n",
    "        null=100000000\n",
    "        def helper(s,e,A):\n",
    "            print(s,e)\n",
    "            if memo[s][e]!=null:\n",
    "                return memo[s][e]\n",
    "            if s+1==e:\n",
    "                memo[s][e]=A[e]-A[s]\n",
    "                return A[e]-A[s]\n",
    "            if s+2==e:\n",
    "                if A[s+1]-A[s]==A[e]-A[s+1]:\n",
    "                    memo[s][e]=A[s+1]-A[s]\n",
    "                    return A[s+1]-A[s]\n",
    "                else:\n",
    "                    return null\n",
    "            cd=helper(s+1,e-1,A)\n",
    "            if cd==null:\n",
    "                return null\n",
    "            if A[s+1]-A[s]!=cd or A[e]-A[e-1]!=cd:\n",
    "                return null\n",
    "            memo[s][e]=cd\n",
    "            return cd     \n",
    "        n=len(A)\n",
    "        memo=[]\n",
    "        for i in range(n):\n",
    "            memo.append([null]*n)\n",
    "        print(memo)\n",
    "        count=0\n",
    "        for i in range(n):\n",
    "            for j in range(i+2,n):\n",
    "                if helper(i,j,A)!=null:\n",
    "                    count+=1\n",
    "        return count;\n",
    "   \n",
    "            "
   ]
  },
  {
   "cell_type": "code",
   "execution_count": 18,
   "metadata": {},
   "outputs": [
    {
     "name": "stdout",
     "output_type": "stream",
     "text": [
      "[[100000000, 100000000, 100000000, 100000000, 100000000], [100000000, 100000000, 100000000, 100000000, 100000000], [100000000, 100000000, 100000000, 100000000, 100000000], [100000000, 100000000, 100000000, 100000000, 100000000], [100000000, 100000000, 100000000, 100000000, 100000000]]\n",
      "0 2\n",
      "0 3\n",
      "1 2\n",
      "0 4\n",
      "1 3\n",
      "1 3\n",
      "1 4\n",
      "2 3\n",
      "2 4\n"
     ]
    },
    {
     "data": {
      "text/plain": [
       "0"
      ]
     },
     "execution_count": 18,
     "metadata": {},
     "output_type": "execute_result"
    }
   ],
   "source": [
    "numberOfArithmeticSlices([1, 1, 2, 5, 7])"
   ]
  },
  {
   "cell_type": "code",
   "execution_count": null,
   "metadata": {},
   "outputs": [],
   "source": []
  }
 ],
 "metadata": {
  "kernelspec": {
   "display_name": "Python 3",
   "language": "python",
   "name": "python3"
  },
  "language_info": {
   "codemirror_mode": {
    "name": "ipython",
    "version": 3
   },
   "file_extension": ".py",
   "mimetype": "text/x-python",
   "name": "python",
   "nbconvert_exporter": "python",
   "pygments_lexer": "ipython3",
   "version": "3.8.5"
  }
 },
 "nbformat": 4,
 "nbformat_minor": 4
}
