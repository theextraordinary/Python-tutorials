{
 "cells": [
  {
   "cell_type": "code",
   "execution_count": 45,
   "metadata": {},
   "outputs": [],
   "source": [
    "ans=''\n",
    "def traverseMaze(mazeFile):\n",
    "    visited=[]\n",
    "    ans=''\n",
    "    grid=[]\n",
    "    #file=open(mazeFile)\n",
    "    #val=file.read()\n",
    "    val='''X X X X X E X X X\n",
    "    X _ _ _ _ _ X _ X\n",
    "    X _ _ X _ X _ _ X\n",
    "    X X _ X _ _ _ X X\n",
    "    X X _ _ _ X X X X\n",
    "    X X X S X X X X X'''\n",
    "    val=val.splitlines()\n",
    "    for line in val:\n",
    "        grid.append(line.split())\n",
    "    for i in range(len(grid)):\n",
    "        print(grid)\n",
    "    for i in range(len(grid)):\n",
    "        visited.append([False]*len(grid[0]))\n",
    "    for i in range(len(grid)):\n",
    "        for j in range(len(grid[0])):\n",
    "            if grid[i][j]=='S':\n",
    "                traverse(i,j,visited,grid,'')\n",
    "                return ans.split()"
   ]
  },
  {
   "cell_type": "code",
   "execution_count": 46,
   "metadata": {},
   "outputs": [],
   "source": [
    "def traverse(i,j,visited,grid,path):\n",
    "    print(i,j)\n",
    "    if grid[i][j]=='E':\n",
    "        ans=path\n",
    "        return True\n",
    "  \n",
    "    if isval(i,j+1,visited,grid):\n",
    "        visited[i][j+1]=True\n",
    "        temp=traverse(i,j+1,visited,grid,path+'R')\n",
    "        if temp:\n",
    "            return True\n",
    "        visited[i][j+1]=False\n",
    "\n",
    "    if isval(i+1,j,visited,grid):\n",
    "        visited[i+1][j]=True\n",
    "        if traverse(i+1,j,visited,grid,path+'D'):\n",
    "            return True\n",
    "        visited[i+1][j]=False\n",
    "\n",
    "    if isval(i,j-1,visited,grid):\n",
    "        visited[i][j-1]=True\n",
    "        if traverse(i,j-1,visited,grid,path+'L'):\n",
    "            return True\n",
    "        visited[i][j-1]=False\n",
    "  \n",
    "    if isval(i-1,j,visited,grid):\n",
    "        visited[i-1][j]=True\n",
    "        temp=traverse(i-1,j,visited,grid,path+'U')\n",
    "        if temp:\n",
    "            return True\n",
    "        visited[i-1][j]=False\n",
    "    return False\n",
    "\n",
    "def isval(i,j,visited,grid):\n",
    "    print('#'+str(i)+' '+str(j))\n",
    "    if i>=len(grid) or i<0 or j>=len(grid[0]) or j<0 or visited[i][j] or grid[i][j]=='X':\n",
    "        return False\n",
    "    return True"
   ]
  },
  {
   "cell_type": "code",
   "execution_count": 48,
   "metadata": {},
   "outputs": [
    {
     "name": "stdout",
     "output_type": "stream",
     "text": [
      "[['X', 'X', 'X', 'X', 'X', 'E', 'X', 'X', 'X'], ['X', '_', '_', '_', '_', '_', 'X', '_', 'X'], ['X', '_', '_', 'X', '_', 'X', '_', '_', 'X'], ['X', 'X', '_', 'X', '_', '_', '_', 'X', 'X'], ['X', 'X', '_', '_', '_', 'X', 'X', 'X', 'X'], ['X', 'X', 'X', 'S', 'X', 'X', 'X', 'X', 'X']]\n",
      "[['X', 'X', 'X', 'X', 'X', 'E', 'X', 'X', 'X'], ['X', '_', '_', '_', '_', '_', 'X', '_', 'X'], ['X', '_', '_', 'X', '_', 'X', '_', '_', 'X'], ['X', 'X', '_', 'X', '_', '_', '_', 'X', 'X'], ['X', 'X', '_', '_', '_', 'X', 'X', 'X', 'X'], ['X', 'X', 'X', 'S', 'X', 'X', 'X', 'X', 'X']]\n",
      "[['X', 'X', 'X', 'X', 'X', 'E', 'X', 'X', 'X'], ['X', '_', '_', '_', '_', '_', 'X', '_', 'X'], ['X', '_', '_', 'X', '_', 'X', '_', '_', 'X'], ['X', 'X', '_', 'X', '_', '_', '_', 'X', 'X'], ['X', 'X', '_', '_', '_', 'X', 'X', 'X', 'X'], ['X', 'X', 'X', 'S', 'X', 'X', 'X', 'X', 'X']]\n",
      "[['X', 'X', 'X', 'X', 'X', 'E', 'X', 'X', 'X'], ['X', '_', '_', '_', '_', '_', 'X', '_', 'X'], ['X', '_', '_', 'X', '_', 'X', '_', '_', 'X'], ['X', 'X', '_', 'X', '_', '_', '_', 'X', 'X'], ['X', 'X', '_', '_', '_', 'X', 'X', 'X', 'X'], ['X', 'X', 'X', 'S', 'X', 'X', 'X', 'X', 'X']]\n",
      "[['X', 'X', 'X', 'X', 'X', 'E', 'X', 'X', 'X'], ['X', '_', '_', '_', '_', '_', 'X', '_', 'X'], ['X', '_', '_', 'X', '_', 'X', '_', '_', 'X'], ['X', 'X', '_', 'X', '_', '_', '_', 'X', 'X'], ['X', 'X', '_', '_', '_', 'X', 'X', 'X', 'X'], ['X', 'X', 'X', 'S', 'X', 'X', 'X', 'X', 'X']]\n",
      "[['X', 'X', 'X', 'X', 'X', 'E', 'X', 'X', 'X'], ['X', '_', '_', '_', '_', '_', 'X', '_', 'X'], ['X', '_', '_', 'X', '_', 'X', '_', '_', 'X'], ['X', 'X', '_', 'X', '_', '_', '_', 'X', 'X'], ['X', 'X', '_', '_', '_', 'X', 'X', 'X', 'X'], ['X', 'X', 'X', 'S', 'X', 'X', 'X', 'X', 'X']]\n",
      "5 3\n",
      "#5 4\n",
      "#6 3\n",
      "#5 2\n",
      "#4 3\n",
      "4 3\n",
      "#4 4\n",
      "4 4\n",
      "#4 5\n",
      "#5 4\n",
      "#4 3\n",
      "#3 4\n",
      "3 4\n",
      "#3 5\n",
      "3 5\n",
      "#3 6\n",
      "3 6\n",
      "#3 7\n",
      "#4 6\n",
      "#3 5\n",
      "#2 6\n",
      "2 6\n",
      "#2 7\n",
      "2 7\n",
      "#2 8\n",
      "#3 7\n",
      "#2 6\n",
      "#1 7\n",
      "1 7\n",
      "#1 8\n",
      "#2 7\n",
      "#1 6\n",
      "#0 7\n",
      "#3 6\n",
      "#2 5\n",
      "#1 6\n",
      "#4 5\n",
      "#3 4\n",
      "#2 5\n",
      "#4 4\n",
      "#3 3\n",
      "#2 4\n",
      "2 4\n",
      "#2 5\n",
      "#3 4\n",
      "#2 3\n",
      "#1 4\n",
      "1 4\n",
      "#1 5\n",
      "1 5\n",
      "#1 6\n",
      "#2 5\n",
      "#1 4\n",
      "#0 5\n",
      "0 5\n"
     ]
    },
    {
     "data": {
      "text/plain": [
       "[]"
      ]
     },
     "execution_count": 48,
     "metadata": {},
     "output_type": "execute_result"
    }
   ],
   "source": [
    "traverseMaze('nc')"
   ]
  },
  {
   "cell_type": "code",
   "execution_count": null,
   "metadata": {},
   "outputs": [],
   "source": []
  },
  {
   "cell_type": "code",
   "execution_count": null,
   "metadata": {},
   "outputs": [],
   "source": []
  },
  {
   "cell_type": "code",
   "execution_count": null,
   "metadata": {},
   "outputs": [],
   "source": []
  }
 ],
 "metadata": {
  "kernelspec": {
   "display_name": "Python 3",
   "language": "python",
   "name": "python3"
  },
  "language_info": {
   "codemirror_mode": {
    "name": "ipython",
    "version": 3
   },
   "file_extension": ".py",
   "mimetype": "text/x-python",
   "name": "python",
   "nbconvert_exporter": "python",
   "pygments_lexer": "ipython3",
   "version": "3.8.5"
  }
 },
 "nbformat": 4,
 "nbformat_minor": 4
}
